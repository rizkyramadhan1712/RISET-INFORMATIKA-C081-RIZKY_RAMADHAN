{
  "metadata": {
    "kernelspec": {
      "language": "python",
      "display_name": "Python 3",
      "name": "python3"
    },
    "language_info": {
      "name": "python",
      "version": "3.7.12",
      "mimetype": "text/x-python",
      "codemirror_mode": {
        "name": "ipython",
        "version": 3
      },
      "pygments_lexer": "ipython3",
      "nbconvert_exporter": "python",
      "file_extension": ".py"
    },
    "colab": {
      "provenance": []
    }
  },
  "nbformat_minor": 0,
  "nbformat": 4,
  "cells": [
    {
      "cell_type": "markdown",
      "source": [
        "# **<span style=\"color:#121CB6;\">Credit Risk Analysis using KNN</span>**\n",
        "\n",
        "- We start with importing all libraries that are needed."
      ],
      "metadata": {
        "_uuid": "17b13754-af46-4fcd-8b38-a98dc052fa2c",
        "_cell_guid": "6b795756-60d3-42fe-8d97-c473c9419d7a",
        "trusted": true,
        "id": "w9t6A__Qx3Ze"
      }
    },
    {
      "cell_type": "code",
      "source": [
        "from google.colab import drive\n",
        "drive.mount('/content/drive')"
      ],
      "metadata": {
        "id": "yrHP24VDyBBE"
      },
      "execution_count": null,
      "outputs": []
    },
    {
      "cell_type": "code",
      "source": [
        "import numpy as np\n",
        "import pandas as pd\n",
        "import seaborn as sns\n",
        "import matplotlib.pyplot as plt\n",
        "from IPython.display import display, Markdown, Latex\n",
        "sns.set_style('whitegrid')\n",
        "from sklearn.preprocessing import LabelEncoder\n",
        "from sklearn import model_selection\n",
        "from sklearn.cluster import KMeans\n",
        "from sklearn.neighbors import KNeighborsClassifier\n",
        "from joblib import Parallel, delayed\n",
        "from sklearn.metrics import f1_score"
      ],
      "metadata": {
        "_uuid": "0be25acb-d4f6-4169-a8cd-2451aa21efcf",
        "_cell_guid": "214c185d-ad19-4e3c-9bfc-eadffbc02568",
        "jupyter": {
          "outputs_hidden": false
        },
        "execution": {
          "iopub.status.busy": "2022-06-12T01:03:21.540129Z",
          "iopub.execute_input": "2022-06-12T01:03:21.540629Z",
          "iopub.status.idle": "2022-06-12T01:03:21.548996Z",
          "shell.execute_reply.started": "2022-06-12T01:03:21.540582Z",
          "shell.execute_reply": "2022-06-12T01:03:21.547932Z"
        },
        "trusted": true,
        "id": "kbsIN7y9x3Zg"
      },
      "execution_count": null,
      "outputs": []
    },
    {
      "cell_type": "markdown",
      "source": [
        "# **<span style=\"color:#121CB6;\">1.Loading and Understanding the dataset</span>**"
      ],
      "metadata": {
        "_uuid": "05730419-24d1-433e-a56f-b5747ba7d247",
        "_cell_guid": "35bd767a-f43a-48bf-8a8c-6d232775aeef",
        "trusted": true,
        "id": "ae9iXYghx3Zh"
      }
    },
    {
      "cell_type": "code",
      "source": [
        "df_loan = pd.read_csv(\"/content/drive/MyDrive/loan/loan.csv\", encoding='utf-8')\n",
        "df_loan.head(7)"
      ],
      "metadata": {
        "_uuid": "c8f3aaf6-795e-4ef1-a89b-a20fd5dd3b54",
        "_cell_guid": "dce0fed1-44cd-4386-9c1a-5ea96f5a11a1",
        "jupyter": {
          "outputs_hidden": false
        },
        "execution": {
          "iopub.status.busy": "2022-06-12T01:03:21.550931Z",
          "iopub.execute_input": "2022-06-12T01:03:21.551613Z",
          "iopub.status.idle": "2022-06-12T01:03:31.791006Z",
          "shell.execute_reply.started": "2022-06-12T01:03:21.551577Z",
          "shell.execute_reply": "2022-06-12T01:03:31.789807Z"
        },
        "trusted": true,
        "id": "hICAuvP7x3Zh"
      },
      "execution_count": null,
      "outputs": []
    },
    {
      "cell_type": "code",
      "source": [
        "df_loan.info()"
      ],
      "metadata": {
        "_uuid": "2090b476-736f-4890-88aa-979f1e349ef4",
        "_cell_guid": "e3d6ae88-2a00-4547-aeda-eb64ea9b84c7",
        "scrolled": true,
        "jupyter": {
          "outputs_hidden": false
        },
        "execution": {
          "iopub.status.busy": "2022-06-12T01:03:31.792776Z",
          "iopub.execute_input": "2022-06-12T01:03:31.793118Z",
          "iopub.status.idle": "2022-06-12T01:03:32.740025Z",
          "shell.execute_reply.started": "2022-06-12T01:03:31.793089Z",
          "shell.execute_reply": "2022-06-12T01:03:32.738978Z"
        },
        "trusted": true,
        "id": "R66DQMr6x3Zh"
      },
      "execution_count": null,
      "outputs": []
    },
    {
      "cell_type": "markdown",
      "source": [
        "# **<span style=\"color:#121CB6;\">2. Removing Irrelevant coloumn</span>**"
      ],
      "metadata": {
        "_uuid": "ef43acdc-f246-49bd-8850-32f7e1dda999",
        "_cell_guid": "46125d6e-5e81-427e-a843-53de723a9fdf",
        "trusted": true,
        "id": "7M_W1wKjx3Zh"
      }
    },
    {
      "cell_type": "code",
      "source": [
        "df_loan.drop(columns=df_loan.columns.difference(['loan_amnt', 'term', 'int_rate', 'installment', 'grade', 'emp_length', 'home_ownership',\n",
        "                                                 'annual_inc', 'verification_status', 'loan_status', 'purpose']), inplace=True)"
      ],
      "metadata": {
        "_uuid": "6893b2b2-1944-4f1b-8cbb-d31879c1cb51",
        "_cell_guid": "3f9539e5-24d2-407b-88ff-4662ff9540bf",
        "jupyter": {
          "outputs_hidden": false
        },
        "execution": {
          "iopub.status.busy": "2022-06-12T01:03:32.741421Z",
          "iopub.execute_input": "2022-06-12T01:03:32.741987Z",
          "iopub.status.idle": "2022-06-12T01:03:32.789801Z",
          "shell.execute_reply.started": "2022-06-12T01:03:32.741943Z",
          "shell.execute_reply": "2022-06-12T01:03:32.788625Z"
        },
        "trusted": true,
        "id": "mJpYl8Rfx3Zh"
      },
      "execution_count": null,
      "outputs": []
    },
    {
      "cell_type": "code",
      "source": [
        "df_loan.isnull().sum()"
      ],
      "metadata": {
        "_uuid": "84cb2653-8511-47f0-8f9f-19509345bed4",
        "_cell_guid": "0f2113dc-4ab4-434d-bbb0-7c375e167f14",
        "jupyter": {
          "outputs_hidden": false
        },
        "execution": {
          "iopub.status.busy": "2022-06-12T01:03:32.792612Z",
          "iopub.execute_input": "2022-06-12T01:03:32.793496Z",
          "iopub.status.idle": "2022-06-12T01:03:33.066027Z",
          "shell.execute_reply.started": "2022-06-12T01:03:32.793448Z",
          "shell.execute_reply": "2022-06-12T01:03:33.064996Z"
        },
        "trusted": true,
        "id": "t8A9tg_Yx3Zi"
      },
      "execution_count": null,
      "outputs": []
    },
    {
      "cell_type": "markdown",
      "source": [
        "There are many \"Missing Values\" in Column \"emp_length\" and few in \"annual_inc\"."
      ],
      "metadata": {
        "_uuid": "1fa259dc-11ec-4c9a-a962-73555729d237",
        "_cell_guid": "5eb3b4c2-a515-4160-beb5-a698f3b8dead",
        "trusted": true,
        "id": "GCiJkU5_x3Zi"
      }
    },
    {
      "cell_type": "code",
      "source": [
        "df_loan.info()"
      ],
      "metadata": {
        "_uuid": "ed804ffa-60e1-4517-bb0d-de436ff966b1",
        "_cell_guid": "d7ad2e0e-f7e7-4df0-9b5a-492154b69325",
        "jupyter": {
          "outputs_hidden": false
        },
        "execution": {
          "iopub.status.busy": "2022-06-12T01:03:33.067411Z",
          "iopub.execute_input": "2022-06-12T01:03:33.067969Z",
          "iopub.status.idle": "2022-06-12T01:03:33.343880Z",
          "shell.execute_reply.started": "2022-06-12T01:03:33.067925Z",
          "shell.execute_reply": "2022-06-12T01:03:33.342936Z"
        },
        "trusted": true,
        "id": "_ARt2Egxx3Zi"
      },
      "execution_count": null,
      "outputs": []
    },
    {
      "cell_type": "code",
      "source": [
        "df_loan.head(10)"
      ],
      "metadata": {
        "_uuid": "2e555c4b-22dd-4598-bdae-43783bf92a5f",
        "_cell_guid": "9dcc2286-bff7-424b-8370-878f57ba685d",
        "jupyter": {
          "outputs_hidden": false
        },
        "execution": {
          "iopub.status.busy": "2022-06-12T01:03:33.345094Z",
          "iopub.execute_input": "2022-06-12T01:03:33.345406Z",
          "iopub.status.idle": "2022-06-12T01:03:33.364011Z",
          "shell.execute_reply.started": "2022-06-12T01:03:33.345378Z",
          "shell.execute_reply": "2022-06-12T01:03:33.363121Z"
        },
        "trusted": true,
        "id": "rqjT70QRx3Zi"
      },
      "execution_count": null,
      "outputs": []
    },
    {
      "cell_type": "code",
      "source": [
        "df_loan.annual_inc = df_loan.annual_inc.fillna(0)\n",
        "df_loan.isnull().sum()"
      ],
      "metadata": {
        "_uuid": "2d4a6356-bdaa-41ec-9832-ec57948dcea7",
        "_cell_guid": "eff52bc0-6b3a-47b1-8e6f-28b9fc9ad13d",
        "jupyter": {
          "outputs_hidden": false
        },
        "execution": {
          "iopub.status.busy": "2022-06-12T01:03:33.365327Z",
          "iopub.execute_input": "2022-06-12T01:03:33.365653Z",
          "iopub.status.idle": "2022-06-12T01:03:33.647181Z",
          "shell.execute_reply.started": "2022-06-12T01:03:33.365624Z",
          "shell.execute_reply": "2022-06-12T01:03:33.646560Z"
        },
        "trusted": true,
        "id": "BNKXY0svx3Zi"
      },
      "execution_count": null,
      "outputs": []
    },
    {
      "cell_type": "markdown",
      "source": [
        "- to eliminate null values, the annual income column is filled with the value 0"
      ],
      "metadata": {
        "_uuid": "d863b97b-30ee-4422-9328-eeeb9b867c4f",
        "_cell_guid": "41b44ba2-dded-4e5e-9454-9c7ba9ff4706",
        "trusted": true,
        "id": "Kusmd2-Lx3Zj"
      }
    },
    {
      "cell_type": "markdown",
      "source": [
        "# **<span style=\"color:#121CB6;\">3. Create label Coloumn : Description about loan status</span>**"
      ],
      "metadata": {
        "_uuid": "5d1ff93c-78f5-44c2-bde5-42db8a61a8c8",
        "_cell_guid": "8778fe99-720b-4f61-a0ed-3bba218bea07",
        "trusted": true,
        "id": "ORsn4Qk3x3Zj"
      }
    },
    {
      "cell_type": "markdown",
      "source": [
        "- In this column, the value 0 will be filled with the correct conditions: 'Fully Paid', 'Does not meet the credit policy. Status:Fully Paid', 'Current'\n",
        "- Meanwhile, the value of 1 will be filled with incorrect conditions: 'Late (31-120 days)', 'Late (16-30 days)', 'In Grace Period', 'Charged Off', 'Default', 'Does not meet the credit policy. Status:Charged Off'"
      ],
      "metadata": {
        "_uuid": "6aa33b06-c661-471c-99e7-f37311fad67f",
        "_cell_guid": "bdfbe8d2-8462-4405-b872-f97aac256c58",
        "trusted": true,
        "id": "j15wzpdKx3Zj"
      }
    },
    {
      "cell_type": "code",
      "source": [
        "# binary classification\n",
        "label_categories = [\n",
        "    (0, ['Fully Paid', 'Does not meet the credit policy. Status:Fully Paid', 'Current']),\n",
        "    (1, ['Late (31-120 days)', 'Late (16-30 days)', 'In Grace Period',\n",
        "         'Charged Off', 'Default', 'Does not meet the credit policy. Status:Charged Off'])\n",
        "]\n",
        "\n",
        "# function to apply the transformation\n",
        "def classify_label(text):\n",
        "    if pd.isna(text):\n",
        "        return None\n",
        "    for category, matches in label_categories:\n",
        "        if any(match in text for match in matches):\n",
        "            return category\n",
        "    return None\n",
        "\n",
        "df_loan.loc[:, 'label'] = df_loan['loan_status'].apply(classify_label)\n",
        "df_loan = df_loan.drop('loan_status', axis=1)"
      ],
      "metadata": {
        "_uuid": "f9b3d3b2-c65d-4533-b857-4777325fbae0",
        "_cell_guid": "7d2ad316-0dcd-423e-bf1a-dce20b5fde75",
        "jupyter": {
          "outputs_hidden": false
        },
        "execution": {
          "iopub.status.busy": "2022-06-12T01:03:33.648142Z",
          "iopub.execute_input": "2022-06-12T01:03:33.648849Z",
          "iopub.status.idle": "2022-06-12T01:03:34.530250Z",
          "shell.execute_reply.started": "2022-06-12T01:03:33.648817Z",
          "shell.execute_reply": "2022-06-12T01:03:34.529227Z"
        },
        "trusted": true,
        "id": "uh6mR9sWx3Zj"
      },
      "execution_count": null,
      "outputs": []
    },
    {
      "cell_type": "code",
      "source": [
        "# label several label with specific grading system.\n",
        "def SC_LabelEncoder1(text):\n",
        "    if text == \"E\":\n",
        "        return 1\n",
        "    elif text == \"D\":\n",
        "        return 2\n",
        "    elif text == \"C\":\n",
        "        return 3\n",
        "    elif text == \"B\":\n",
        "        return 4\n",
        "    elif text == \"A\":\n",
        "        return 5\n",
        "    else:\n",
        "        return 0\n",
        "\n",
        "\n",
        "def SC_LabelEncoder2(text):\n",
        "    if text == \"< 1 year\":\n",
        "        return 1\n",
        "    elif text == \"1 year\":\n",
        "        return 2\n",
        "    elif text == \"2 years\":\n",
        "        return 3\n",
        "    elif text == \"3 years\":\n",
        "        return 4\n",
        "    elif text == \"4 years\":\n",
        "        return 5\n",
        "    elif text == \"5 years\":\n",
        "        return 6\n",
        "    elif text == \"6 years\":\n",
        "        return 7\n",
        "    elif text == \"7 years\":\n",
        "        return 8\n",
        "    elif text == \"8 years\":\n",
        "        return 9\n",
        "    elif text == \"9 years\":\n",
        "        return 10\n",
        "    elif text == \"10 years\":\n",
        "        return 11\n",
        "    elif text == \"10+ years\":\n",
        "        return 12\n",
        "    else:\n",
        "        return 0\n",
        "\n",
        "def SC_LabelEncoder3(text):\n",
        "    if text == \"RENT\":\n",
        "        return 1\n",
        "    elif text == \"MORTGAGE\":\n",
        "        return 2\n",
        "    elif text == \"OWN\":\n",
        "        return 3\n",
        "    else:\n",
        "        return 0\n",
        "\n",
        "df_loan[\"grade\"] = df_loan[\"grade\"].apply(SC_LabelEncoder1)\n",
        "df_loan[\"emp_length\"] = df_loan[\"emp_length\"].apply(SC_LabelEncoder2)\n",
        "df_loan[\"home_ownership\"] = df_loan[\"home_ownership\"].apply(SC_LabelEncoder3)"
      ],
      "metadata": {
        "_uuid": "a0174c94-0637-4957-8af2-f4c20548169d",
        "_cell_guid": "53b5fa47-0bae-4506-b0a4-780a5de8d5c7",
        "jupyter": {
          "outputs_hidden": false
        },
        "execution": {
          "iopub.status.busy": "2022-06-12T01:03:34.531490Z",
          "iopub.execute_input": "2022-06-12T01:03:34.531861Z",
          "iopub.status.idle": "2022-06-12T01:03:35.643911Z",
          "shell.execute_reply.started": "2022-06-12T01:03:34.531830Z",
          "shell.execute_reply": "2022-06-12T01:03:35.643047Z"
        },
        "trusted": true,
        "id": "q2he5_7_x3Zj"
      },
      "execution_count": null,
      "outputs": []
    },
    {
      "cell_type": "code",
      "source": [
        "df_loan.head(10)"
      ],
      "metadata": {
        "_uuid": "899bbacc-a505-4e8b-9ff7-59a45b8cd8e6",
        "_cell_guid": "d0e8741d-7823-40d0-ac8a-36332df19f12",
        "jupyter": {
          "outputs_hidden": false
        },
        "execution": {
          "iopub.status.busy": "2022-06-12T01:03:35.646589Z",
          "iopub.execute_input": "2022-06-12T01:03:35.646992Z",
          "iopub.status.idle": "2022-06-12T01:03:35.665918Z",
          "shell.execute_reply.started": "2022-06-12T01:03:35.646959Z",
          "shell.execute_reply": "2022-06-12T01:03:35.664807Z"
        },
        "trusted": true,
        "id": "9CwMaWLFx3Zk"
      },
      "execution_count": null,
      "outputs": []
    },
    {
      "cell_type": "code",
      "source": [
        "df_loan.info()"
      ],
      "metadata": {
        "_uuid": "f6f660ad-7838-4aeb-82ac-39f86afe3071",
        "_cell_guid": "3c0dc6c2-cf4a-4992-8750-6c93de84262c",
        "jupyter": {
          "outputs_hidden": false
        },
        "execution": {
          "iopub.status.busy": "2022-06-12T01:03:35.667149Z",
          "iopub.execute_input": "2022-06-12T01:03:35.667559Z",
          "iopub.status.idle": "2022-06-12T01:03:35.811096Z",
          "shell.execute_reply.started": "2022-06-12T01:03:35.667517Z",
          "shell.execute_reply": "2022-06-12T01:03:35.809950Z"
        },
        "trusted": true,
        "id": "rcbsZY8Ex3Zk"
      },
      "execution_count": null,
      "outputs": []
    },
    {
      "cell_type": "markdown",
      "source": [
        "# **<span style=\"color:#121CB6;\">4. Exploratory Data Analysis</span>**"
      ],
      "metadata": {
        "_uuid": "d51397b1-5314-4b55-b480-ee2c69ceccdc",
        "_cell_guid": "c44a49d8-d5e5-4ce3-a75a-89f04ee72611",
        "trusted": true,
        "id": "kfJGNv67x3Zk"
      }
    },
    {
      "cell_type": "code",
      "source": [
        "fig, ax = plt.subplots(1,2,figsize=(15,5))\n",
        "sns.countplot(data=df_loan, x='grade', hue=\"home_ownership\", ax=ax[0]).set_title(\"Grade/Home Ownership distribution\");\n",
        "sns.countplot(data=df_loan, x='home_ownership', hue='grade', ax=ax[1]).set_title(\"Grade/Home Ownership distribution\");\n",
        "\n",
        "fig, ax = plt.subplots(1,2,figsize=(15,5))\n",
        "sns.countplot(data=df_loan, x='label', hue='purpose', ax=ax[0]).set_title(\"Grade Distribution with verification_status distribution\");\n",
        "sns.countplot(data=df_loan, x='grade', hue='label', ax=ax[1]).set_title(\"Grade Distribution with loan_status\");"
      ],
      "metadata": {
        "_uuid": "c19d0d3d-e532-462d-a2ca-12f790d30219",
        "_cell_guid": "9cd7e724-05fd-4e2c-ae5a-601e97f8268e",
        "jupyter": {
          "outputs_hidden": false
        },
        "execution": {
          "iopub.status.busy": "2022-06-12T01:03:35.812810Z",
          "iopub.execute_input": "2022-06-12T01:03:35.813148Z",
          "iopub.status.idle": "2022-06-12T01:03:38.363315Z",
          "shell.execute_reply.started": "2022-06-12T01:03:35.813118Z",
          "shell.execute_reply": "2022-06-12T01:03:38.361726Z"
        },
        "trusted": true,
        "id": "wI0lItQkx3Zk"
      },
      "execution_count": null,
      "outputs": []
    },
    {
      "cell_type": "markdown",
      "source": [
        "## Analysis :\n",
        "1. The number of Borrowers with high grade will be small compared to low grade\n",
        "2. Most money borrowers' goals from labels 0 and 1 are debt consolidation\n",
        "3. The highest number of grades who were able to complete the loan was grade 4, while the most failed to complete the loan was grade 3"
      ],
      "metadata": {
        "_uuid": "d59f3035-1fc7-46f2-902a-6381daf9bbb3",
        "_cell_guid": "e64712f3-88ee-4385-b56f-6e232e9f80ef",
        "trusted": true,
        "id": "yIjpDuAUx3Zk"
      }
    },
    {
      "cell_type": "code",
      "source": [
        "plt.figure(figsize=(12,6))\n",
        "sns.boxplot(x='purpose', y='loan_amnt', data=df_loan)\n",
        "plt.xticks(rotation=30)\n",
        "plt.title('Loan amounts grouped by purpose')"
      ],
      "metadata": {
        "_uuid": "9fb0b246-f60a-4db8-bc70-6cd6cacdad7a",
        "_cell_guid": "0a1c805c-c9b4-4bcb-87d7-e0d9b0a1ca4a",
        "jupyter": {
          "outputs_hidden": false
        },
        "execution": {
          "iopub.status.busy": "2022-06-12T01:03:38.364767Z",
          "iopub.execute_input": "2022-06-12T01:03:38.365072Z",
          "iopub.status.idle": "2022-06-12T01:03:39.169586Z",
          "shell.execute_reply.started": "2022-06-12T01:03:38.365045Z",
          "shell.execute_reply": "2022-06-12T01:03:39.168575Z"
        },
        "trusted": true,
        "id": "jx9LNeJbx3Zk"
      },
      "execution_count": null,
      "outputs": []
    },
    {
      "cell_type": "markdown",
      "source": [
        "## Analysis :\n",
        "There are 5 highest categories for the amount of credit with the following purposes: Credit card, MSME business, debt consolidation, home improvement, and buying a house"
      ],
      "metadata": {
        "_uuid": "dd086450-d677-41de-933e-87e42e21a2df",
        "_cell_guid": "85a7c6de-5d8c-49e3-a23d-a26e6dee470d",
        "trusted": true,
        "id": "1i1Mf3Btx3Zl"
      }
    },
    {
      "cell_type": "code",
      "source": [
        "fig, ax = plt.subplots(1,2,figsize=(15,5))\n",
        "sns.histplot(df_loan, x='loan_amnt',hue=\"label\", bins=30, ax=ax[0]).set_title(\"Loan Ammount distribution\");\n",
        "sns.countplot(data=df_loan, x='term', hue=\"label\", ax=ax[1]).set_title(\"Term distribution\");\n",
        "\n",
        "fig, ax = plt.subplots(1,2,figsize=(15,5))\n",
        "sns.countplot(data=df_loan, hue='home_ownership', x='label', ax=ax[1]).set_title(\"Home ownership with loan_status\");\n",
        "sns.countplot(data=df_loan, x='verification_status', hue='label', ax=ax[0]).set_title(\"Verification Status Distribution with loan_status\");"
      ],
      "metadata": {
        "_uuid": "fc987b34-bcd0-45f8-8c37-2189aaa6ae06",
        "_cell_guid": "f59df802-bbce-432d-b23f-526b196984a5",
        "jupyter": {
          "outputs_hidden": false
        },
        "execution": {
          "iopub.status.busy": "2022-06-12T01:03:39.170983Z",
          "iopub.execute_input": "2022-06-12T01:03:39.171346Z",
          "iopub.status.idle": "2022-06-12T01:03:41.902999Z",
          "shell.execute_reply.started": "2022-06-12T01:03:39.171317Z",
          "shell.execute_reply": "2022-06-12T01:03:41.901924Z"
        },
        "trusted": true,
        "id": "iP8OThUMx3Zl"
      },
      "execution_count": null,
      "outputs": []
    },
    {
      "cell_type": "markdown",
      "source": [
        "## Analysis :\n",
        "1. The nominal value of the largest debt is 10000 USD\n",
        "2. The maximum maturity is 36 months, while for 60 months it is almost a third\n",
        "3. Most of the credits that can be paid in full are obtained from the \"Verified\" verification status"
      ],
      "metadata": {
        "_uuid": "57a0446e-ad2e-424e-b11a-cd1a5056b552",
        "_cell_guid": "a5f87f00-5b4c-4ee4-aef0-d308af1889d4",
        "trusted": true,
        "id": "U-ZAswRwx3Zl"
      }
    },
    {
      "cell_type": "markdown",
      "source": [
        "- Seeing the correlation between variables:"
      ],
      "metadata": {
        "_uuid": "6b7effe3-c8c0-4517-876b-419d44557343",
        "_cell_guid": "ab1e5a25-616c-45ac-8869-850cb5cfd380",
        "trusted": true,
        "id": "bhd8iUO2x3Zl"
      }
    },
    {
      "cell_type": "code",
      "source": [
        "corr = df_loan[['loan_amnt', 'int_rate', 'grade', 'emp_length', 'home_ownership', 'annual_inc','purpose','label']].corr()\n",
        "sns.set(rc={'figure.figsize':(11,7)})\n",
        "sns.heatmap(corr, linewidths=.5, annot=True, cmap=\"YlGnBu\", mask=np.triu(np.ones_like(corr, dtype=bool)))\\\n",
        "    .set_title(\"Pearson Correlations Heatmap\");"
      ],
      "metadata": {
        "_uuid": "8628167c-70d0-4120-bbd8-6b14049aa7f6",
        "_cell_guid": "96bb98ad-0ac6-4b0f-9d9f-19bf734bbcdc",
        "jupyter": {
          "outputs_hidden": false
        },
        "execution": {
          "iopub.status.busy": "2022-06-12T01:03:41.904430Z",
          "iopub.execute_input": "2022-06-12T01:03:41.905171Z",
          "iopub.status.idle": "2022-06-12T01:03:42.442773Z",
          "shell.execute_reply.started": "2022-06-12T01:03:41.905135Z",
          "shell.execute_reply": "2022-06-12T01:03:42.441879Z"
        },
        "trusted": true,
        "id": "-uLO5hxEx3Zl"
      },
      "execution_count": null,
      "outputs": []
    },
    {
      "cell_type": "markdown",
      "source": [
        "## Analysis :\n",
        "The amount of credit is very dependent on the annual income of the borrower"
      ],
      "metadata": {
        "_uuid": "b90b0a58-8eaf-437d-80f4-e1cc70d26cf8",
        "_cell_guid": "8d4b2f24-0a34-46dd-8958-14c93fc9fba6",
        "trusted": true,
        "id": "3ddAUf3Ix3Zl"
      }
    },
    {
      "cell_type": "markdown",
      "source": [
        "# **<span style=\"color:#121CB6;\">5. Pra-Processing data for Discrete Coloumn</span>**"
      ],
      "metadata": {
        "_uuid": "718772df-964f-447f-a2a0-648a689751e4",
        "_cell_guid": "fe359dea-f82f-4bd1-a42b-c1b0c4927333",
        "trusted": true,
        "id": "LGlHJbxVx3Zl"
      }
    },
    {
      "cell_type": "code",
      "source": [
        "# use LabelEncoder() to encode another category column:\n",
        "for col in [\"verification_status\", \"purpose\",\"term\"]:\n",
        "    le = LabelEncoder()\n",
        "    le.fit(df_loan[col])\n",
        "    df_loan[col] = le.transform(df_loan[col])\n",
        "df_loan.head()"
      ],
      "metadata": {
        "_uuid": "2e61d0a4-ece0-4e09-a1aa-c4e58be85f96",
        "_cell_guid": "81b4b34f-630b-46be-9085-5d98ddb9e467",
        "jupyter": {
          "outputs_hidden": false
        },
        "execution": {
          "iopub.status.busy": "2022-06-12T01:03:42.443924Z",
          "iopub.execute_input": "2022-06-12T01:03:42.444227Z",
          "iopub.status.idle": "2022-06-12T01:03:43.055413Z",
          "shell.execute_reply.started": "2022-06-12T01:03:42.444199Z",
          "shell.execute_reply": "2022-06-12T01:03:43.054364Z"
        },
        "trusted": true,
        "id": "Nkkud-DYx3Zl"
      },
      "execution_count": null,
      "outputs": []
    },
    {
      "cell_type": "code",
      "source": [
        "df_loan.isnull().sum()"
      ],
      "metadata": {
        "_uuid": "b83941c6-69bb-4281-9fb3-611a61516449",
        "_cell_guid": "8212c849-7e89-4d08-a3e4-39eadc814ec4",
        "jupyter": {
          "outputs_hidden": false
        },
        "execution": {
          "iopub.status.busy": "2022-06-12T01:03:43.056637Z",
          "iopub.execute_input": "2022-06-12T01:03:43.057546Z",
          "iopub.status.idle": "2022-06-12T01:03:43.083172Z",
          "shell.execute_reply.started": "2022-06-12T01:03:43.057503Z",
          "shell.execute_reply": "2022-06-12T01:03:43.081745Z"
        },
        "trusted": true,
        "id": "pTrHcvmjx3Zl"
      },
      "execution_count": null,
      "outputs": []
    },
    {
      "cell_type": "code",
      "source": [
        "df_loan.label = df_loan.label.fillna(1)"
      ],
      "metadata": {
        "_uuid": "0fe2f820-908b-48a7-ae8f-a05f6e09d618",
        "_cell_guid": "f249f8f6-caf6-4db9-b19f-58b4bfa50540",
        "jupyter": {
          "outputs_hidden": false
        },
        "execution": {
          "iopub.status.busy": "2022-06-12T01:03:43.084600Z",
          "iopub.execute_input": "2022-06-12T01:03:43.085177Z",
          "iopub.status.idle": "2022-06-12T01:03:43.097720Z",
          "shell.execute_reply.started": "2022-06-12T01:03:43.085142Z",
          "shell.execute_reply": "2022-06-12T01:03:43.096528Z"
        },
        "trusted": true,
        "id": "x3WPwnGox3Zm"
      },
      "execution_count": null,
      "outputs": []
    },
    {
      "cell_type": "markdown",
      "source": [
        "# **<span style=\"color:#121CB6;\">6. Clustering</span>**"
      ],
      "metadata": {
        "_uuid": "4fb6b9ba-482f-4f3d-ba7a-bbf8565b6833",
        "_cell_guid": "7ac8cef7-5b25-4a6a-8ba0-d28da2d735f4",
        "trusted": true,
        "id": "lR8UMw3wx3Zm"
      }
    },
    {
      "cell_type": "code",
      "source": [
        "inertias = []\n",
        "\n",
        "for i in range(2, 16):\n",
        "    kmeans = KMeans(n_clusters=i, n_init='auto', random_state=0).fit(df_loan)\n",
        "    inertias.append(kmeans.inertia_)\n",
        "\n",
        "plt.figure(figsize=(10, 5))\n",
        "plt.title('Inertias v.s. N_Clusters')\n",
        "plt.plot(np.arange(2, 16), inertias, marker='o', lw=2);"
      ],
      "metadata": {
        "_uuid": "873a2411-9769-4956-ae36-0e4b7eaa34e3",
        "_cell_guid": "1b33c579-6afb-4f36-a97d-ed43f689eb46",
        "jupyter": {
          "outputs_hidden": false
        },
        "execution": {
          "iopub.status.busy": "2022-06-12T01:03:43.099152Z",
          "iopub.execute_input": "2022-06-12T01:03:43.099800Z",
          "iopub.status.idle": "2022-06-12T01:06:22.971613Z",
          "shell.execute_reply.started": "2022-06-12T01:03:43.099757Z",
          "shell.execute_reply": "2022-06-12T01:06:22.970398Z"
        },
        "trusted": true,
        "id": "mhwop9_Kx3Zm"
      },
      "execution_count": null,
      "outputs": []
    },
    {
      "cell_type": "markdown",
      "source": [
        "## Analysis:\n",
        "\"Elbow\" on the chart above is at 4. The number of clusters must be 4."
      ],
      "metadata": {
        "_uuid": "2e1d47a1-5aee-413a-a12b-5ac45c241be9",
        "_cell_guid": "23af0cae-61ed-4aea-a40c-b0720b21b06f",
        "trusted": true,
        "id": "UwvewaoQx3Zm"
      }
    },
    {
      "cell_type": "code",
      "source": [
        "sample_size = 1000  # Adjust the sample size based on your data size\n",
        "df_sample = df_loan.sample(sample_size, random_state=0)\n",
        "\n",
        "km = KMeans(n_clusters=4, n_init=10, random_state=0)\n",
        "clusters = km.fit_predict(df_sample)\n",
        "\n",
        "# Creating a DataFrame for clustered data\n",
        "df_clustered = df_sample[['loan_amnt', 'int_rate', 'grade', 'emp_length', 'home_ownership', 'annual_inc', 'purpose']].copy()\n",
        "df_clustered.loc[:, \"Cluster\"] = clusters\n",
        "\n",
        "# Visualizing the clustered data using pairplot\n",
        "sns.pairplot(df_clustered[['loan_amnt', 'int_rate', 'grade', 'emp_length', 'home_ownership', 'annual_inc', 'purpose', 'Cluster']],\n",
        "             hue=\"Cluster\", markers='.', plot_kws={'alpha':0.5});"
      ],
      "metadata": {
        "_uuid": "0d04d3ba-85fc-4047-ba48-1349178849c8",
        "_cell_guid": "40f060e0-6f0d-46cd-9504-8212c769015e",
        "jupyter": {
          "outputs_hidden": false
        },
        "execution": {
          "iopub.status.busy": "2022-06-12T01:06:22.973178Z",
          "iopub.execute_input": "2022-06-12T01:06:22.973611Z",
          "iopub.status.idle": "2022-06-12T01:06:29.009397Z",
          "shell.execute_reply.started": "2022-06-12T01:06:22.973569Z",
          "shell.execute_reply": "2022-06-12T01:06:29.008400Z"
        },
        "trusted": true,
        "id": "iHT8-iXMx3Zm"
      },
      "execution_count": null,
      "outputs": []
    },
    {
      "cell_type": "markdown",
      "source": [
        "# **<span style=\"color:#121CB6;\">7. Predicting Risk: Using the K-Nearest Neighbors Classification Model</span>**"
      ],
      "metadata": {
        "_uuid": "824cc8ee-db4b-43ef-847e-65a6d46949c9",
        "_cell_guid": "8c06aa00-5dd9-496c-9c2b-0688aef6bcb4",
        "trusted": true,
        "id": "EdRxbsDVx3Zm"
      }
    },
    {
      "cell_type": "code",
      "source": [
        "X, y = df_loan.drop(\"label\", axis=1), df_loan[\"label\"]\n",
        "X_train, X_test, y_train, y_test = model_selection.train_test_split(X, y, test_size=0.20, random_state=0)"
      ],
      "metadata": {
        "_uuid": "215fb88d-9076-4cf7-a258-cbb455c9cfb9",
        "_cell_guid": "bb461cb8-fa8c-4682-af0f-4c0c53901395",
        "jupyter": {
          "outputs_hidden": false
        },
        "execution": {
          "iopub.status.busy": "2022-06-12T01:39:04.254347Z",
          "iopub.execute_input": "2022-06-12T01:39:04.254767Z",
          "iopub.status.idle": "2022-06-12T01:39:04.955739Z",
          "shell.execute_reply.started": "2022-06-12T01:39:04.254722Z",
          "shell.execute_reply": "2022-06-12T01:39:04.954622Z"
        },
        "trusted": true,
        "id": "Rp45SPznx3Zn"
      },
      "execution_count": null,
      "outputs": []
    },
    {
      "cell_type": "code",
      "source": [
        "max_score = 0\n",
        "max_k = 0\n",
        "\n",
        "def calculate_score(k, X_train, y_train, X_test, y_test):\n",
        "    neigh = KNeighborsClassifier(n_neighbors=k)\n",
        "    neigh.fit(X_train, y_train)\n",
        "    score = f1_score(y_test, neigh.predict(X_test), average='micro')\n",
        "    return k, score\n",
        "\n",
        "results = Parallel(n_jobs=-1)(delayed(calculate_score)(k, X_train, y_train, X_test, y_test) for k in range(1, 100))\n",
        "\n",
        "for k, score in results:\n",
        "    if score > max_score:\n",
        "        max_k = k\n",
        "        max_score = score"
      ],
      "metadata": {
        "_uuid": "07161596-3724-4e7c-9f0f-a7abae2c9b7a",
        "_cell_guid": "8e705cc9-e93c-4606-8ff3-9b430879d9bb",
        "jupyter": {
          "outputs_hidden": false
        },
        "execution": {
          "iopub.status.busy": "2022-06-12T01:39:04.956847Z",
          "iopub.execute_input": "2022-06-12T01:39:04.957153Z",
          "iopub.status.idle": "2022-06-12T02:06:29.616749Z",
          "shell.execute_reply.started": "2022-06-12T01:39:04.957124Z",
          "shell.execute_reply": "2022-06-12T02:06:29.615883Z"
        },
        "trusted": true,
        "id": "pOv3yyzbx3Zn"
      },
      "execution_count": null,
      "outputs": []
    },
    {
      "cell_type": "code",
      "source": [
        "print('Jika kita menggunakan K-Nearest Neighbors Classification, maka nilai K yang terbaik adalah', str(max_k), 'untuk mendapatkan prediksi terbaik, dengan akurasi rata-rata sebesar', max_score)"
      ],
      "metadata": {
        "_uuid": "fcd481c7-767f-4885-82f8-1a870539b19e",
        "_cell_guid": "94122727-ecdc-4390-8188-b223fba0fa83",
        "jupyter": {
          "outputs_hidden": false
        },
        "execution": {
          "iopub.status.busy": "2022-06-12T02:06:29.618400Z",
          "iopub.execute_input": "2022-06-12T02:06:29.619239Z",
          "iopub.status.idle": "2022-06-12T02:06:29.624249Z",
          "shell.execute_reply.started": "2022-06-12T02:06:29.619205Z",
          "shell.execute_reply": "2022-06-12T02:06:29.623435Z"
        },
        "trusted": true,
        "id": "Umn9dAFrx3Zn"
      },
      "execution_count": null,
      "outputs": []
    },
    {
      "cell_type": "markdown",
      "source": [
        "Classification with other ML models"
      ],
      "metadata": {
        "_uuid": "d4bb502f-8c49-449b-bab9-d8f27148aa77",
        "_cell_guid": "7a7dab4e-f02d-4bce-a8f8-d7f0480ef509",
        "trusted": true,
        "id": "daVmWQucx3Zo"
      }
    },
    {
      "cell_type": "markdown",
      "source": [
        "Since the KNN (K-Nearest Neighbors) Classification takes a lot of time and memory to predict, it is possible to use other ML models such as SVC, DecisionTree, RandomForest, and GaussianNaiveBayes.\n",
        "\n",
        "However, in this notebook, We use KNN Model Only, and it is done and has got a good accuracy = 85,27%"
      ],
      "metadata": {
        "_uuid": "032c427a-1e24-43e8-a49f-d321aa697da9",
        "_cell_guid": "84714748-a2fd-4786-9cdf-6279931b03c7",
        "trusted": true,
        "id": "5rGMRMTgx3Zo"
      }
    }
  ]
}